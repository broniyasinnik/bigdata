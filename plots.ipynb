{
 "cells": [
  {
   "cell_type": "code",
   "execution_count": 1,
   "metadata": {
    "pycharm": {
     "name": "#%%\n"
    }
   },
   "outputs": [],
   "source": [
    "from IPython.display import display\n",
    "import numpy as np\n",
    "import pandas as pd\n",
    "import seaborn as sns\n",
    "import pickle\n",
    "import matplotlib.pyplot as plt\n",
    "from sdgym import load_dataset\n",
    "from sdgym.evaluate import FeatureMaker\n",
    "from benchmarks import binary_classification_benchmark\n",
    "from data_utils import data_undersample\n",
    "from data_utils import label_column\n",
    "from sklearn.neural_network import MLPClassifier\n",
    "from sklearn.ensemble import AdaBoostClassifier\n",
    "from sklearn.calibration import CalibratedClassifierCV"
   ]
  },
  {
   "cell_type": "markdown",
   "metadata": {
    "pycharm": {
     "name": "#%% md\n"
    }
   },
   "source": [
    "## Loading the Gold Data"
   ]
  },
  {
   "cell_type": "code",
   "execution_count": 18,
   "metadata": {
    "pycharm": {
     "name": "#%%\n"
    }
   },
   "outputs": [
    {
     "name": "stdout",
     "output_type": "stream",
     "text": [
      "Number of majority labels in train:187141\n",
      "Number of minority labels in train:12382\n",
      "Number of majority labels in test:93576\n",
      "Number of minority labels in test:6186\n",
      "Train table: (199523, 508); Test table: (99762, 508)\n"
     ]
    }
   ],
   "source": [
    "np.random.seed(17)\n",
    "gold_train, test, meta, cat, ord = load_dataset('census', benchmark=True)\n",
    "fm = FeatureMaker(meta, sample=gold_train.shape[0])\n",
    "gold_train_x, gold_train_y = fm.make_features(gold_train)\n",
    "test_x, test_y = fm.make_features(test)\n",
    "gold_labels, index = label_column(gold_train, meta)\n",
    "print(f\"Number of majority labels in train:{sum(gold_train_y==0)}\")\n",
    "print(f\"Number of minority labels in train:{sum(gold_train_y==1)}\")\n",
    "print(f\"Number of majority labels in test:{sum(test_y==0)}\")\n",
    "print(f\"Number of minority labels in test:{sum(test_y==1)}\")\n",
    "print(f\"Train table: {gold_train_x.shape}; Test table: {test_x.shape}\")\n",
    "\n"
   ]
  },
  {
   "cell_type": "markdown",
   "source": [
    "## Load  Saved model and plot"
   ],
   "metadata": {
    "collapsed": false,
    "pycharm": {
     "name": "#%% md\n"
    }
   }
  },
  {
   "cell_type": "code",
   "execution_count": 27,
   "outputs": [
    {
     "data": {
      "text/plain": "<pandas.io.formats.style.Styler at 0x12d9a3340>",
      "text/html": "<style  type=\"text/css\" >\n</style><table id=\"T_58dd982a_0d35_11eb_85b8_f45c899d2a15\" ><caption>Benchmark: Census dataset</caption><thead>    <tr>        <th class=\"blank level0\" ></th>        <th class=\"col_heading level0 col0\" >F1</th>        <th class=\"col_heading level0 col1\" >AP</th>    </tr></thead><tbody>\n                <tr>\n                        <th id=\"T_58dd982a_0d35_11eb_85b8_f45c899d2a15level0_row0\" class=\"row_heading level0 row0\" >Original</th>\n                        <td id=\"T_58dd982a_0d35_11eb_85b8_f45c899d2a15row0_col0\" class=\"data row0 col0\" >0.576409</td>\n                        <td id=\"T_58dd982a_0d35_11eb_85b8_f45c899d2a15row0_col1\" class=\"data row0 col1\" >0.603135</td>\n            </tr>\n            <tr>\n                        <th id=\"T_58dd982a_0d35_11eb_85b8_f45c899d2a15level0_row1\" class=\"row_heading level0 row1\" >UnderSample (IR 1: 2000)</th>\n                        <td id=\"T_58dd982a_0d35_11eb_85b8_f45c899d2a15row1_col0\" class=\"data row1 col0\" >0.516046</td>\n                        <td id=\"T_58dd982a_0d35_11eb_85b8_f45c899d2a15row1_col1\" class=\"data row1 col1\" >0.526668</td>\n            </tr>\n            <tr>\n                        <th id=\"T_58dd982a_0d35_11eb_85b8_f45c899d2a15level0_row2\" class=\"row_heading level0 row2\" >Ctgan</th>\n                        <td id=\"T_58dd982a_0d35_11eb_85b8_f45c899d2a15row2_col0\" class=\"data row2 col0\" >0.508638</td>\n                        <td id=\"T_58dd982a_0d35_11eb_85b8_f45c899d2a15row2_col1\" class=\"data row2 col1\" >0.514141</td>\n            </tr>\n            <tr>\n                        <th id=\"T_58dd982a_0d35_11eb_85b8_f45c899d2a15level0_row3\" class=\"row_heading level0 row3\" >Smote</th>\n                        <td id=\"T_58dd982a_0d35_11eb_85b8_f45c899d2a15row3_col0\" class=\"data row3 col0\" >0.507283</td>\n                        <td id=\"T_58dd982a_0d35_11eb_85b8_f45c899d2a15row3_col1\" class=\"data row3 col1\" >0.512649</td>\n            </tr>\n    </tbody></table>"
     },
     "metadata": {},
     "output_type": "display_data"
    },
    {
     "data": {
      "text/plain": "<Figure size 432x288 with 1 Axes>",
      "image/png": "[encoded data removed]"
     },
     "metadata": {
      "needs_background": "light"
     },
     "output_type": "display_data"
    }
   ],
   "source": [
    "from benchmarks import performance\n",
    "\n",
    "fig = plt.figure()\n",
    "ax = plt.subplot('111')\n",
    "model1 = 'Models/census/logistic/original.pkl'\n",
    "model2 = 'Models/census/logistic/ir_1_2000.pkl'\n",
    "model3 = 'Models/census/logistic/syn_1_2000.pkl'\n",
    "model4 = 'Models/census/logistic/smt_1_2000.pkl'\n",
    "per1 = performance(model1, test_x, test_y)\n",
    "per2 = performance(model2, test_x, test_y)\n",
    "per3 = performance(model3, test_x, test_y)\n",
    "per4 = performance(model4, test_x, test_y)\n",
    "ax.plot(per1['recall'], per1['precision'], marker='.', label=\"Original\")\n",
    "ax.plot(per2['recall'], per2['precision'], marker='.', label=\"UnderSample\")\n",
    "ax.plot(per3['recall'], per3['precision'], marker='.', label=\"Ctgan\")\n",
    "ax.plot(per4['recall'], per4['precision'], marker='.', label=\"Smote\")\n",
    "ax.set_xlabel(\"recall\")\n",
    "ax.set_ylabel(\"precision\")\n",
    "ax.set_title(\"Logistic\")\n",
    "ax.legend()\n",
    "\n",
    "df = pd.DataFrame(columns=['F1', 'AP'])\n",
    "df.loc['Original'] = [per1['f1'], per1['AP']]\n",
    "df.loc['UnderSample (IR 1: 2000)'] = [per2['f1'], per2['AP']]\n",
    "df.loc['Ctgan'] = [per3['f1'], per3['AP']]\n",
    "df.loc['Smote'] = [per4['f1'], per4['AP']]\n",
    "df = df.style.set_caption(\"Benchmark: Census dataset\")\n",
    "display(df)\n",
    "\n",
    "\n"
   ],
   "metadata": {
    "collapsed": false,
    "pycharm": {
     "name": "#%%\n"
    }
   }
  },
  {
   "cell_type": "code",
   "execution_count": 15,
   "outputs": [
    {
     "data": {
      "text/plain": "(68036,)"
     },
     "execution_count": 15,
     "metadata": {},
     "output_type": "execute_result"
    }
   ],
   "source": [
    "\n",
    "per2['thresholds'].shape"
   ],
   "metadata": {
    "collapsed": false,
    "pycharm": {
     "name": "#%%\n"
    }
   }
  },
  {
   "cell_type": "code",
   "execution_count": null,
   "outputs": [],
   "source": [],
   "metadata": {
    "collapsed": false,
    "pycharm": {
     "name": "#%%\n"
    }
   }
  }
 ],
 "metadata": {
  "kernelspec": {
   "display_name": "Python 3",
   "language": "python",
   "name": "python3"
  },
  "language_info": {
   "codemirror_mode": {
    "name": "ipython",
    "version": 3
   },
   "file_extension": ".py",
   "mimetype": "text/x-python",
   "name": "python",
   "nbconvert_exporter": "python",
   "pygments_lexer": "ipython3",
   "version": "3.8.5"
  }
 },
 "nbformat": 4,
 "nbformat_minor": 1
}